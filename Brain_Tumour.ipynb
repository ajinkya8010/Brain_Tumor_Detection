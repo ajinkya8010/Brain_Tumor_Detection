{
 "cells": [
  {
   "cell_type": "code",
   "execution_count": 1,
   "metadata": {},
   "outputs": [],
   "source": [
    "import pandas as pd\n",
    "import numpy as np\n",
    "import tensorflow\n",
    "from tensorflow import keras\n",
    "import matplotlib.pyplot as plt\n",
    "from keras.preprocessing.image import  ImageDataGenerator as Imgen\n",
    "import scipy\n",
    "from keras.models import Sequential\n",
    "from keras.layers import Dense, Flatten, Dropout, Conv2D, MaxPooling2D, Activation,BatchNormalization\n",
    "from keras.metrics import categorical_crossentropy\n",
    "from keras.optimizers import Adam\n",
    "from tensorflow.keras.applications.vgg16 import VGG16\n",
    "from tensorflow.keras.applications.vgg16 import preprocess_input\n",
    "from tensorflow.keras import layers, models\n",
    "from tensorflow.keras.callbacks import EarlyStopping,ModelCheckpoint"
   ]
  },
  {
   "cell_type": "code",
   "execution_count": 2,
   "metadata": {},
   "outputs": [],
   "source": [
    "#Augmenting the training dataset\n",
    "traingen = Imgen(\n",
    "                rescale=1/255,\n",
    "                validation_split=0.15,\n",
    "                horizontal_flip=True\n",
    "                #vertical_flip=True,\n",
    "                \n",
    "                 )\n",
    "#Augmenting the testing dataset\n",
    "testgen = Imgen(# rescale the images to 1./255 \n",
    "                rescale = 1/255\n",
    "                )"
   ]
  },
  {
   "cell_type": "code",
   "execution_count": 3,
   "metadata": {},
   "outputs": [
    {
     "name": "stdout",
     "output_type": "stream",
     "text": [
      "Found 2441 images belonging to 4 classes.\n",
      "Found 429 images belonging to 4 classes.\n",
      "Found 394 images belonging to 4 classes.\n"
     ]
    }
   ],
   "source": [
    "trainds = traingen.flow_from_directory(\"D:\\\\Studiesss\\\\CAPSTONE PROJECT\\\\Sy Brain\\\\archive\\\\Training\",\n",
    "                                       target_size = (200,200),\n",
    "                                       seed=123,\n",
    "                                       batch_size  = 32,\n",
    "                                       subset=\"training\",\n",
    "                                      )\n",
    "valds = traingen.flow_from_directory(\"D:\\\\Studiesss\\\\CAPSTONE PROJECT\\\\Sy Brain\\\\archive\\\\Training\",\n",
    "                                     target_size = (200,200),\n",
    "                                     seed=123,\n",
    "                                     batch_size  = 32,\n",
    "                                     subset=\"validation\",\n",
    "                                      )\n",
    "testds = testgen.flow_from_directory(\"D:\\\\Studiesss\\\\CAPSTONE PROJECT\\\\Sy Brain\\\\archive\\\\Testing\",\n",
    "                                     target_size = (200,200),\n",
    "                                     seed=123,\n",
    "                                     batch_size  = 32\n",
    "                                    ,\n",
    "                                     shuffle=False)"
   ]
  },
  {
   "cell_type": "code",
   "execution_count": null,
   "metadata": {},
   "outputs": [],
   "source": [
    "print(len(trainds))\n",
    "print(len(valds))\n",
    "print(len(testds))\n"
   ]
  },
  {
   "cell_type": "code",
   "execution_count": null,
   "metadata": {},
   "outputs": [],
   "source": [
    "c = trainds.class_indices\n",
    "classes = list(c.keys())\n",
    "classes"
   ]
  },
  {
   "cell_type": "code",
   "execution_count": null,
   "metadata": {},
   "outputs": [],
   "source": [
    "x,y = next(trainds)                             #function returns the next item in an iterator.\n",
    "def plotImages(x,y):\n",
    "    plt.figure(figsize=[15,11])                 #size of the plot\n",
    "    for i in range(16):                         #16 images\n",
    "        plt.subplot(4,4,i+1)                    #4 by 4 plot    \n",
    "        plt.imshow(x[i])                        #Imshow() is a function of matplotlib displays the image\n",
    "        plt.title(classes[np.argmax(y[i])])     # Class of the image will be it's title\n",
    "        plt.axis(\"off\")\n",
    "    plt.show()                                  #shows the figure or plot"
   ]
  },
  {
   "cell_type": "code",
   "execution_count": null,
   "metadata": {},
   "outputs": [],
   "source": [
    "#Call the plotImages function\n",
    "plotImages(x,y)"
   ]
  },
  {
   "attachments": {},
   "cell_type": "markdown",
   "metadata": {},
   "source": [
    "Model 1"
   ]
  },
  {
   "cell_type": "code",
   "execution_count": 21,
   "metadata": {},
   "outputs": [],
   "source": [
    "model1 = Sequential([\n",
    "    # first Layer\n",
    "    Conv2D(filters=16, kernel_size=(3, 3), padding = 'same', activation='relu', input_shape=(200, 200, 3)),\n",
    "    \n",
    "    MaxPooling2D((2, 2)),\n",
    "    # second layer\n",
    "    Conv2D(filters=32, kernel_size=(3, 3), padding = 'same', activation='relu'),\n",
    "    MaxPooling2D((2, 2)),\n",
    "    Dropout(0.20),\n",
    "\n",
    "\n",
    "    Conv2D(filters=64, kernel_size=(3, 3), padding = 'same', activation='relu'),\n",
    "    MaxPooling2D((2, 2)),\n",
    "    Dropout(0.20),\n",
    "\n",
    "\n",
    "     Conv2D(filters=64, kernel_size=(3, 3), padding = 'same', activation='relu'),\n",
    "    MaxPooling2D((2, 2)),\n",
    "    Dropout(0.20),\n",
    "\n",
    "\n",
    "\n",
    "\n",
    "    \n",
    "  \n",
    "\n",
    "\n",
    "    \n",
    "    \n",
    "\n",
    "    Flatten(),\n",
    "\n",
    "\n",
    "    \n",
    "    \n",
    "    Dense(16, activation='relu'),\n",
    "    Dense(32,activation='relu'),\n",
    "\n",
    "    \n",
    "    Dense(4, activation='softmax')\n",
    "])"
   ]
  },
  {
   "cell_type": "code",
   "execution_count": null,
   "metadata": {},
   "outputs": [],
   "source": [
    "model1.summary()"
   ]
  },
  {
   "cell_type": "code",
   "execution_count": 22,
   "metadata": {},
   "outputs": [],
   "source": [
    "model1.compile(loss=\"categorical_crossentropy\",\n",
    "              optimizer = \"Adam\",metrics=[\"accuracy\"])"
   ]
  },
  {
   "cell_type": "code",
   "execution_count": 24,
   "metadata": {},
   "outputs": [
    {
     "name": "stdout",
     "output_type": "stream",
     "text": [
      "WARNING:tensorflow:`period` argument is deprecated. Please use `save_freq` to specify the frequency in number of batches seen.\n"
     ]
    },
    {
     "name": "stderr",
     "output_type": "stream",
     "text": [
      "WARNING:tensorflow:`period` argument is deprecated. Please use `save_freq` to specify the frequency in number of batches seen.\n"
     ]
    },
    {
     "name": "stdout",
     "output_type": "stream",
     "text": [
      "Epoch 1/10\n",
      "77/77 [==============================] - ETA: 0s - loss: 0.3292 - accuracy: 0.8640\n",
      "Epoch 1: val_accuracy improved from -inf to 0.46193, saving model to model1\n"
     ]
    },
    {
     "name": "stderr",
     "output_type": "stream",
     "text": [
      "WARNING:absl:Found untraced functions such as _jit_compiled_convolution_op, _jit_compiled_convolution_op, _jit_compiled_convolution_op, _jit_compiled_convolution_op, _update_step_xla while saving (showing 5 of 5). These functions will not be directly callable after loading.\n"
     ]
    },
    {
     "name": "stdout",
     "output_type": "stream",
     "text": [
      "INFO:tensorflow:Assets written to: model1\\assets\n"
     ]
    },
    {
     "name": "stderr",
     "output_type": "stream",
     "text": [
      "INFO:tensorflow:Assets written to: model1\\assets\n"
     ]
    },
    {
     "name": "stdout",
     "output_type": "stream",
     "text": [
      "77/77 [==============================] - 38s 496ms/step - loss: 0.3292 - accuracy: 0.8640 - val_loss: 3.5520 - val_accuracy: 0.4619\n",
      "Epoch 2/10\n",
      "77/77 [==============================] - ETA: 0s - loss: 0.2786 - accuracy: 0.8808\n",
      "Epoch 2: val_accuracy did not improve from 0.46193\n",
      "77/77 [==============================] - 36s 464ms/step - loss: 0.2786 - accuracy: 0.8808 - val_loss: 3.7523 - val_accuracy: 0.4619\n",
      "Epoch 3/10\n",
      "77/77 [==============================] - ETA: 0s - loss: 0.2795 - accuracy: 0.8865\n",
      "Epoch 3: val_accuracy did not improve from 0.46193\n",
      "77/77 [==============================] - 36s 463ms/step - loss: 0.2795 - accuracy: 0.8865 - val_loss: 4.5282 - val_accuracy: 0.4365\n",
      "Epoch 4/10\n",
      "77/77 [==============================] - ETA: 0s - loss: 0.2498 - accuracy: 0.9025\n",
      "Epoch 4: val_accuracy improved from 0.46193 to 0.48223, saving model to model1\n"
     ]
    },
    {
     "name": "stderr",
     "output_type": "stream",
     "text": [
      "WARNING:absl:Found untraced functions such as _jit_compiled_convolution_op, _jit_compiled_convolution_op, _jit_compiled_convolution_op, _jit_compiled_convolution_op, _update_step_xla while saving (showing 5 of 5). These functions will not be directly callable after loading.\n"
     ]
    },
    {
     "name": "stdout",
     "output_type": "stream",
     "text": [
      "INFO:tensorflow:Assets written to: model1\\assets\n"
     ]
    },
    {
     "name": "stderr",
     "output_type": "stream",
     "text": [
      "INFO:tensorflow:Assets written to: model1\\assets\n"
     ]
    },
    {
     "name": "stdout",
     "output_type": "stream",
     "text": [
      "77/77 [==============================] - 38s 495ms/step - loss: 0.2498 - accuracy: 0.9025 - val_loss: 4.8439 - val_accuracy: 0.4822\n",
      "Epoch 5/10\n",
      "77/77 [==============================] - ETA: 0s - loss: 0.2324 - accuracy: 0.9054\n",
      "Epoch 5: val_accuracy improved from 0.48223 to 0.51269, saving model to model1\n"
     ]
    },
    {
     "name": "stderr",
     "output_type": "stream",
     "text": [
      "WARNING:absl:Found untraced functions such as _jit_compiled_convolution_op, _jit_compiled_convolution_op, _jit_compiled_convolution_op, _jit_compiled_convolution_op, _update_step_xla while saving (showing 5 of 5). These functions will not be directly callable after loading.\n"
     ]
    },
    {
     "name": "stdout",
     "output_type": "stream",
     "text": [
      "INFO:tensorflow:Assets written to: model1\\assets\n"
     ]
    },
    {
     "name": "stderr",
     "output_type": "stream",
     "text": [
      "INFO:tensorflow:Assets written to: model1\\assets\n"
     ]
    },
    {
     "name": "stdout",
     "output_type": "stream",
     "text": [
      "77/77 [==============================] - 39s 501ms/step - loss: 0.2324 - accuracy: 0.9054 - val_loss: 4.5633 - val_accuracy: 0.5127\n",
      "Epoch 6/10\n",
      "77/77 [==============================] - ETA: 0s - loss: 0.2201 - accuracy: 0.9156\n",
      "Epoch 6: val_accuracy improved from 0.51269 to 0.55076, saving model to model1\n"
     ]
    },
    {
     "name": "stderr",
     "output_type": "stream",
     "text": [
      "WARNING:absl:Found untraced functions such as _jit_compiled_convolution_op, _jit_compiled_convolution_op, _jit_compiled_convolution_op, _jit_compiled_convolution_op, _update_step_xla while saving (showing 5 of 5). These functions will not be directly callable after loading.\n"
     ]
    },
    {
     "name": "stdout",
     "output_type": "stream",
     "text": [
      "INFO:tensorflow:Assets written to: model1\\assets\n"
     ]
    },
    {
     "name": "stderr",
     "output_type": "stream",
     "text": [
      "INFO:tensorflow:Assets written to: model1\\assets\n"
     ]
    },
    {
     "name": "stdout",
     "output_type": "stream",
     "text": [
      "77/77 [==============================] - 38s 494ms/step - loss: 0.2201 - accuracy: 0.9156 - val_loss: 4.7800 - val_accuracy: 0.5508\n",
      "Epoch 7/10\n",
      "77/77 [==============================] - ETA: 0s - loss: 0.2040 - accuracy: 0.9177\n",
      "Epoch 7: val_accuracy improved from 0.55076 to 0.58122, saving model to model1\n"
     ]
    },
    {
     "name": "stderr",
     "output_type": "stream",
     "text": [
      "WARNING:absl:Found untraced functions such as _jit_compiled_convolution_op, _jit_compiled_convolution_op, _jit_compiled_convolution_op, _jit_compiled_convolution_op, _update_step_xla while saving (showing 5 of 5). These functions will not be directly callable after loading.\n"
     ]
    },
    {
     "name": "stdout",
     "output_type": "stream",
     "text": [
      "INFO:tensorflow:Assets written to: model1\\assets\n"
     ]
    },
    {
     "name": "stderr",
     "output_type": "stream",
     "text": [
      "INFO:tensorflow:Assets written to: model1\\assets\n"
     ]
    },
    {
     "name": "stdout",
     "output_type": "stream",
     "text": [
      "77/77 [==============================] - 36s 467ms/step - loss: 0.2040 - accuracy: 0.9177 - val_loss: 5.2367 - val_accuracy: 0.5812\n",
      "Epoch 8/10\n",
      "77/77 [==============================] - ETA: 0s - loss: 0.1813 - accuracy: 0.9312\n",
      "Epoch 8: val_accuracy did not improve from 0.58122\n",
      "77/77 [==============================] - 34s 437ms/step - loss: 0.1813 - accuracy: 0.9312 - val_loss: 4.9896 - val_accuracy: 0.5457\n",
      "Epoch 9/10\n",
      "77/77 [==============================] - ETA: 0s - loss: 0.1878 - accuracy: 0.9259\n",
      "Epoch 9: val_accuracy did not improve from 0.58122\n",
      "77/77 [==============================] - 34s 435ms/step - loss: 0.1878 - accuracy: 0.9259 - val_loss: 5.2155 - val_accuracy: 0.5533\n",
      "Epoch 10/10\n",
      "77/77 [==============================] - ETA: 0s - loss: 0.1872 - accuracy: 0.9287\n",
      "Epoch 10: val_accuracy did not improve from 0.58122\n",
      "77/77 [==============================] - 34s 434ms/step - loss: 0.1872 - accuracy: 0.9287 - val_loss: 5.4163 - val_accuracy: 0.5482\n"
     ]
    }
   ],
   "source": [
    "checkpoint = ModelCheckpoint(\"model1\", monitor='val_accuracy', verbose=1, save_best_only=True, save_weights_only=False, mode='auto', period=1)\n",
    "\n",
    "hist1= model1.fit(trainds,validation_data= testds, epochs=10,callbacks=[checkpoint])"
   ]
  },
  {
   "cell_type": "code",
   "execution_count": 25,
   "metadata": {},
   "outputs": [
    {
     "name": "stdout",
     "output_type": "stream",
     "text": [
      "13/13 [==============================] - 2s 122ms/step - loss: 5.4163 - accuracy: 0.5482\n"
     ]
    },
    {
     "data": {
      "text/plain": [
       "[5.416299343109131, 0.5482233762741089]"
      ]
     },
     "execution_count": 25,
     "metadata": {},
     "output_type": "execute_result"
    }
   ],
   "source": [
    "model1.evaluate(testds)"
   ]
  },
  {
   "cell_type": "code",
   "execution_count": null,
   "metadata": {},
   "outputs": [],
   "source": [
    "## Loading VGG16 model\n",
    "base_model = VGG16(weights=\"imagenet\", include_top=False, input_shape=(200,200,3))\n",
    "base_model.trainable = False ## Not trainable weights\n",
    "\n"
   ]
  },
  {
   "cell_type": "code",
   "execution_count": null,
   "metadata": {},
   "outputs": [],
   "source": [
    "base_model.summary()"
   ]
  },
  {
   "cell_type": "code",
   "execution_count": null,
   "metadata": {},
   "outputs": [],
   "source": [
    "flatten_layer = layers.Flatten()\n",
    "dense_layer_1 = layers.Dense(50, activation='relu')\n",
    "dense_layer_2 = layers.Dense(20, activation='relu')\n",
    "prediction_layer = layers.Dense(4, activation='softmax')\n",
    "\n",
    "\n",
    "model2 = models.Sequential([\n",
    "    base_model,\n",
    "    flatten_layer,\n",
    "    dense_layer_1,\n",
    "    dense_layer_2,\n",
    "    prediction_layer\n",
    "])"
   ]
  },
  {
   "cell_type": "code",
   "execution_count": null,
   "metadata": {},
   "outputs": [],
   "source": [
    "\n",
    "\n",
    "model2.compile(\n",
    "    optimizer='adam',\n",
    "    loss='categorical_crossentropy',\n",
    "    metrics=['accuracy'],\n",
    ")\n",
    "\n",
    "\n",
    "checkpoint2= ModelCheckpoint(\"model2\", monitor='val_accuracy', verbose=1, save_best_only=True, save_weights_only=False, mode='auto', period=1)\n",
    "early2= EarlyStopping(monitor='val_accuracy', min_delta=0, patience=20, verbose=1, mode='auto')\n",
    "hist = model2.fit(trainds,validation_data= valds, validation_steps=10,epochs=100,callbacks=[checkpoint2,early2])"
   ]
  },
  {
   "cell_type": "code",
   "execution_count": null,
   "metadata": {},
   "outputs": [],
   "source": []
  },
  {
   "cell_type": "code",
   "execution_count": null,
   "metadata": {},
   "outputs": [],
   "source": [
    "model2.evaluate(testds)"
   ]
  },
  {
   "cell_type": "code",
   "execution_count": 26,
   "metadata": {},
   "outputs": [
    {
     "data": {
      "text/plain": [
       "<Figure size 432x288 with 0 Axes>"
      ]
     },
     "execution_count": 26,
     "metadata": {},
     "output_type": "execute_result"
    },
    {
     "data": {
      "image/png": "[encoded data removed]",
      "text/plain": [
       "<Figure size 432x288 with 1 Axes>"
      ]
     },
     "metadata": {
      "needs_background": "light"
     },
     "output_type": "display_data"
    },
    {
     "data": {
      "text/plain": [
       "<Figure size 432x288 with 0 Axes>"
      ]
     },
     "metadata": {},
     "output_type": "display_data"
    }
   ],
   "source": [
    "epochs1= range(len(hist1.history['accuracy']))\n",
    "epochs2=range(len(hist.history['accuracy']))\n",
    "plt.plot(epochs1, hist1.history['accuracy'], 'green', label='Accuracy of Training Data')\n",
    "plt.plot(epochs1, hist1.history['val_accuracy'], 'red', label='Accuracy of Validation Data')\n",
    "plt.xlabel('Total Epochs')\n",
    "plt.ylabel('Accuracy achieved')\n",
    "plt.title('Training and Validation Accuracy')\n",
    "plt.legend(loc=0)\n",
    "plt.figure()"
   ]
  },
  {
   "cell_type": "code",
   "execution_count": 27,
   "metadata": {},
   "outputs": [
    {
     "data": {
      "text/plain": [
       "<Figure size 432x288 with 0 Axes>"
      ]
     },
     "execution_count": 27,
     "metadata": {},
     "output_type": "execute_result"
    },
    {
     "data": {
      "image/png": "[encoded data removed]",
      "text/plain": [
       "<Figure size 432x288 with 1 Axes>"
      ]
     },
     "metadata": {
      "needs_background": "light"
     },
     "output_type": "display_data"
    },
    {
     "data": {
      "text/plain": [
       "<Figure size 432x288 with 0 Axes>"
      ]
     },
     "metadata": {},
     "output_type": "display_data"
    }
   ],
   "source": [
    "plt.plot(epochs2, hist.history['accuracy'], 'green', label='Accuracy of Training Data')\n",
    "plt.plot(epochs2, hist.history['val_accuracy'], 'red', label='Accuracy of Validation Data')\n",
    "plt.xlabel('Total Epochs')\n",
    "plt.ylabel('Accuracy achieved')\n",
    "plt.title('Training and Validation Accuracy')\n",
    "plt.legend(loc=0)\n",
    "plt.figure()"
   ]
  },
  {
   "cell_type": "code",
   "execution_count": 25,
   "metadata": {},
   "outputs": [
    {
     "name": "stderr",
     "output_type": "stream",
     "text": [
      "C:\\Users\\Lenovo\\AppData\\Local\\Temp\\ipykernel_1632\\3126627542.py:6: DeprecationWarning: ANTIALIAS is deprecated and will be removed in Pillow 10 (2023-07-01). Use Resampling.LANCZOS instead.\n",
      "  image = ImageOps.fit(image, size, Image.ANTIALIAS)\n"
     ]
    },
    {
     "data": {
      "image/png": "[encoded data removed]",
      "text/plain": [
       "<PIL.Image.Image image mode=RGB size=200x200>"
      ]
     },
     "metadata": {},
     "output_type": "display_data"
    }
   ],
   "source": [
    "from matplotlib.pyplot import imshow\n",
    "from PIL import Image, ImageOps\n",
    "data = np.ndarray(shape=(1, 200, 200, 3), dtype=np.float32)\n",
    "image = Image.open(\"D:\\\\Studiesss\\\\CAPSTONE PROJECT\\\\Sy Brain\\\\archive\\\\Testing\\\\pituitary_tumor\\\\image(5).jpg\")\n",
    "size = (200, 200)\n",
    "image = ImageOps.fit(image, size, Image.ANTIALIAS)\n",
    "image_array = np.asarray(image)\n",
    "display(image)\n",
    "normalized_image_array = (image_array.astype(np.float32) / 127.0) - 1\n",
    "data[0] = normalized_image_array"
   ]
  },
  {
   "cell_type": "code",
   "execution_count": 12,
   "metadata": {},
   "outputs": [],
   "source": [
    "from keras.models import load_model\n",
    "saved_model1 = load_model(\"model1\")\n",
    "\n",
    "from keras.models import load_model\n",
    "saved_model2 = load_model(\"model2\")"
   ]
  },
  {
   "cell_type": "code",
   "execution_count": 16,
   "metadata": {},
   "outputs": [
    {
     "name": "stdout",
     "output_type": "stream",
     "text": [
      "1/1 [==============================] - 0s 30ms/step\n",
      "[[0.0000000e+00 3.3370419e-32 1.0000000e+00 0.0000000e+00]]\n",
      "2\n"
     ]
    }
   ],
   "source": [
    "prediction = saved_model1.predict(data)\n",
    "print(prediction)\n",
    "predict_index = np.argmax(prediction)\n",
    "print(predict_index)"
   ]
  },
  {
   "cell_type": "code",
   "execution_count": 26,
   "metadata": {},
   "outputs": [
    {
     "name": "stdout",
     "output_type": "stream",
     "text": [
      "1/1 [==============================] - 0s 113ms/step\n",
      "[[7.3607254e-09 9.9727494e-01 4.3463380e-05 2.6815447e-03]]\n",
      "1\n"
     ]
    }
   ],
   "source": [
    "prediction =saved_model2.predict(data)\n",
    "print(prediction)\n",
    "predict_index = np.argmax(prediction)\n",
    "print(predict_index)"
   ]
  }
 ],
 "metadata": {
  "kernelspec": {
   "display_name": "Python 3.10.7 64-bit",
   "language": "python",
   "name": "python3"
  },
  "language_info": {
   "codemirror_mode": {
    "name": "ipython",
    "version": 3
   },
   "file_extension": ".py",
   "mimetype": "text/x-python",
   "name": "python",
   "nbconvert_exporter": "python",
   "pygments_lexer": "ipython3",
   "version": "3.10.7"
  },
  "orig_nbformat": 4,
  "vscode": {
   "interpreter": {
    "hash": "8c3d4d9970fc5c09c50d9318a9c7fbf4d0159e4b28833276f5678ee22bded273"
   }
  }
 },
 "nbformat": 4,
 "nbformat_minor": 2
}
